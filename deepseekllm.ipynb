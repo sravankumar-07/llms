{
  "nbformat": 4,
  "nbformat_minor": 0,
  "metadata": {
    "colab": {
      "provenance": []
    },
    "kernelspec": {
      "name": "python3",
      "display_name": "Python 3"
    },
    "language_info": {
      "name": "python"
    }
  },
  "cells": [
    {
      "cell_type": "code",
      "execution_count": 1,
      "metadata": {
        "colab": {
          "base_uri": "https://localhost:8080/"
        },
        "id": "a0jvtSCgLN4s",
        "outputId": "ba5eeadd-c21a-4e33-8fc5-a861797e1828"
      },
      "outputs": [
        {
          "output_type": "stream",
          "name": "stdout",
          "text": [
            "The meaning of life is one of the deepest and most enduring philosophical questions, and different people, cultures, and belief systems have proposed various answers. Here are some perspectives:\n",
            "\n",
            "### 1. **Philosophical Perspectives**  \n",
            "   - **Existentialism** (e.g., Jean-Paul Sartre, Albert Camus): Life has no inherent meaning—we must create our own purpose through choices and actions.  \n",
            "   - **Absurdism** (Camus): Life is inherently meaningless, but we must rebel against this absurdity by embracing passion and living fully.  \n",
            "   - **Stoicism**: Meaning comes from virtue, self-control, and alignment with nature/logic.  \n",
            "   - **Nihilism**: Life has no objective meaning, purpose, or value.  \n",
            "\n",
            "### 2. **Religious/Spiritual Perspectives**  \n",
            "   - **Theistic religions** (Christianity, Islam, Hinduism, etc.): Meaning is tied to divine purpose, such as serving God, achieving enlightenment, or fulfilling dharma (moral duty).  \n",
            "   - **Buddhism**: Meaning arises from escaping suffering (dukkha) through enlightenment (nirvana) and compassion.  \n",
            "   - **Pantheism/Panentheism**: Meaning comes from unity with the universe or the divine.  \n",
            "\n",
            "### 3. **Scientific Perspectives**  \n",
            "   - **Evolutionary biology**: Life's \"purpose\" is survival and reproduction.  \n",
            "   - **Cosmology**: From a vast, indifferent universe, meaning is a human construct.  \n",
            "\n",
            "### 4. **Personal/Subjective Meaning**  \n",
            "   Many find purpose in:  \n",
            "   - Relationships and love  \n",
            "   - Creativity and self-expression  \n",
            "   - Knowledge and discovery  \n",
            "   - Helping others (altruism)  \n",
            "   - Pursuit of happiness or fulfillment  \n",
            "\n",
            "### **My Take (AI Perspective)**  \n",
            "As an AI, I don’t experience life, but I observe that humans often find meaning in connection, growth, and leaving a legacy. Ultimately, the answer may be to *define it for yourself*.  \n",
            "\n",
            "What resonates with *you*?\n"
          ]
        }
      ],
      "source": [
        "from openai import OpenAI\n",
        "\n",
        "# Replace this with your actual API key from OpenRouter\n",
        "OPENROUTER_API_KEY = \"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\"\n",
        "\n",
        "client = OpenAI(\n",
        "    base_url=\"https://openrouter.ai/api/v1\",\n",
        "    api_key=OPENROUTER_API_KEY,\n",
        ")\n",
        "\n",
        "# Create a chat completion\n",
        "response = client.chat.completions.create(\n",
        "    model=\"deepseek/deepseek-chat-v3-0324:free\",\n",
        "    messages=[\n",
        "        {\n",
        "            \"role\": \"user\",\n",
        "            \"content\": \"What is the meaning of life?\"\n",
        "        }\n",
        "    ],\n",
        "    extra_headers={\n",
        "        \"HTTP-Referer\": \"https://yourwebsite.com\",  # Optional\n",
        "        \"X-Title\": \"My App\",                        # Optional\n",
        "    },\n",
        "    extra_body={}  # Leave empty or add specific OpenRouter options\n",
        ")\n",
        "\n",
        "# Print the chatbot's reply\n",
        "print(response.choices[0].message.content)\n"
      ]
    }
  ]
}